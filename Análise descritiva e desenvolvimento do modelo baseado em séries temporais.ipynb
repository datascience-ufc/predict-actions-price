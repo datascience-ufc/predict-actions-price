{
 "cells": [
  {
   "cell_type": "code",
   "execution_count": 84,
   "metadata": {},
   "outputs": [],
   "source": [
    "# Importando as bibliotecas\n",
    "import pandas as pd\n",
    "import numpy as np\n",
    "import matplotlib.pyplot as plt\n",
    "#import datetime"
   ]
  },
  {
   "cell_type": "markdown",
   "metadata": {},
   "source": [
    "### Tratamento do banco de dados\n",
    "\n",
    "* Padronização dos atributos\n",
    "* Modificação do tipo de dados dos atributos\n",
    "* Separação da data dd/mm/aa em colunas separadas de dia, mês e ano\n"
   ]
  },
  {
   "cell_type": "code",
   "execution_count": 90,
   "metadata": {},
   "outputs": [],
   "source": [
    "def tratamento_banco():\n",
    "    # Abrindo o banco de dados\n",
    "    df = pd.read_csv(\"C:/Users/Matheus/Desktop/Github/predict-actions-price/workspace/data/acoes_petr4.csv\")\n",
    "    ### Padronizando os tipos de dados dos atributos\n",
    "    # Padronizando atributo Data - Para Datetime\n",
    "    df[\"Data\"] = pd.to_datetime(df[\"Data\"])\n",
    "    # Padronizando atributo Última, abertura, máxima e mínima -  Float\n",
    "    for col in [\"Último\",\"Abertura\",\"Máxima\",\"Mínima\"]:\n",
    "        df[col] = df[col].str.replace(\",\",\".\").astype(\"float\")\n",
    "    # Padronizando Vol. e Var% como valores flutuantes\n",
    "    df[\"Vol.\"] = df[\"Vol.\"].apply(lambda x : float(x.replace(\",\",\".\").replace(\"M\",\"\"))*1000000 if x.count(\"M\") == 1 else float(x.replace(\",\",\".\").replace(\"K\",\"\"))*1000)\n",
    "    df[\"Var%\"] = df[\"Var%\"].apply(lambda x : float(x.replace(\"%\",\"\").replace(\",\",\".\")))\n",
    "    ## Criar atributos de dia, mês e ano\n",
    "    df['Dia'] = df['Data'].dt.day\n",
    "    df['Mes'] = df['Data'].dt.month\n",
    "    df['Ano'] = df['Data'].dt.year\n",
    "    ## Renomeando colunas\n",
    "    df.rename(columns = {\"Último\":\"Ultimo\",\"Máxima\":\"Maxima\",\"Mínima\":\"Minima\",\"Vol.\":\"Vol\",\"Var%\":\"Var\"}, inplace = True)\n",
    "    \n",
    "    return df\n",
    "    \n",
    "df = tratamento_banco()"
   ]
  },
  {
   "cell_type": "code",
   "execution_count": null,
   "metadata": {},
   "outputs": [],
   "source": []
  }
 ],
 "metadata": {
  "kernelspec": {
   "display_name": "Python 3",
   "language": "python",
   "name": "python3"
  },
  "language_info": {
   "codemirror_mode": {
    "name": "ipython",
    "version": 3
   },
   "file_extension": ".py",
   "mimetype": "text/x-python",
   "name": "python",
   "nbconvert_exporter": "python",
   "pygments_lexer": "ipython3",
   "version": "3.7.1"
  }
 },
 "nbformat": 4,
 "nbformat_minor": 2
}
